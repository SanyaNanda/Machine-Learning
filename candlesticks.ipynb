{
 "cells": [
  {
   "cell_type": "markdown",
   "id": "cc722a95",
   "metadata": {},
   "source": [
    "# Single Candlestick Patterns\n"
   ]
  },
  {
   "cell_type": "markdown",
   "id": "5e6304a6",
   "metadata": {},
   "source": [
    "## 1. Marubuzo\n",
    "\n",
    "### Bullish\n",
    "Open = Low and High = close\n",
    "\n",
    "The buy price should be around the closing price of the marubuzo\n",
    "\n",
    "The low of the stock acts as a stoploss"
   ]
  },
  {
   "cell_type": "markdown",
   "id": "c305c977",
   "metadata": {},
   "source": [
    "### Bearish \n",
    "\n",
    "Open = High, and Close = Low.\n",
    "\n",
    "Sell around the closing price of a bearish marubozu\n",
    "\n",
    "Keep the high of the marubuzo as the stoploss\n"
   ]
  },
  {
   "cell_type": "markdown",
   "id": "3d49d0b5",
   "metadata": {},
   "source": [
    "An abnormal candle lengths should not be traded\n",
    "1. Short candle indicates subdued activity\n",
    "2. Long candle indicates extreme activity, however placing stoploss becomes an issue."
   ]
  },
  {
   "cell_type": "markdown",
   "id": "5429ffc0",
   "metadata": {},
   "source": [
    "## 2. Spinning Tops\n",
    "\n",
    "A spinning top has a small real body. The upper and lower shadows are almost equal in length.\n",
    "\n",
    "It conveys indecision as both bulls and bears were not able to influence the markets\n",
    "\n",
    "The spinning top candle shows confusion and indecision in the market with an equal probability of reversal or continuation. Until the situation becomes clear the traders should be cautious and they should minimize their position size\n",
    "\n",
    "### doji\n",
    "\n",
    "open=close\n",
    "\n",
    "no real body\n",
    "\n",
    "extreme case of spinning top\n",
    "\n",
    "Bearish or Bullish (color) doesn't matter, the trend can go both ways 50/50"
   ]
  },
  {
   "cell_type": "markdown",
   "id": "20b7c73b",
   "metadata": {},
   "source": [
    "## 3. Paper Umbrella\n",
    "\n",
    "A paper umbrella is characterized by a long lower shadow with a small upper body\n",
    "\n",
    "#### Bullish\n",
    "If the paper umbrella appears at the bottom end of a downward rally, it is called the ‘Hammer’.\n",
    "\n",
    "1. Open and close should be almost the same (within 1-2% range)\n",
    "2. Lower shadow length should be at least twice the length of real body\n",
    "3. The low of the hammer acts as the stop loss price trade\n",
    "\n",
    "\n",
    "\n",
    "#### Bearish\n",
    "If the paper umbrella appears at the top end of an uptrend rally, it is called the ‘Hanging man’.\n",
    "\n",
    "My only concern with a hanging man is the fact that if the bears were indeed influential during the day, why did the price go up after making a low? This according to me re establishes the bull’s supremacy in the market."
   ]
  },
  {
   "cell_type": "markdown",
   "id": "a06e9552",
   "metadata": {},
   "source": [
    "## 4. Shooting Star\n",
    "\n",
    "long upper shadow where the length of the shadow is at least twice the length of the real body\n",
    "\n",
    "The colour of the body does not matter, but the pattern\n",
    "is slightly more reliable if the real body is red\n",
    "\n",
    "prior trend: bullish/uptrend\n",
    "\n",
    "The shooting star is a bearish pattern which appears at the top end of the trend. It is a shorting opportunity.\n",
    "\n",
    "The high of the shooting star will be the stop loss price for the trade."
   ]
  },
  {
   "cell_type": "markdown",
   "id": "c04178c9",
   "metadata": {},
   "source": [
    "----\n",
    "# Multiple Candlestick Patterns"
   ]
  },
  {
   "cell_type": "markdown",
   "id": "54e5c325",
   "metadata": {},
   "source": [
    "## 1. Engulfing Pattern\n",
    "\n",
    "1. Multiple candlestick patterns evolve over two or more trading days\n",
    "2. The bullish engulfing pattern evolves over two trading days. It appears at the\n",
    "bottom end of downtrend. Day one is called P1 and day 2 is called P2\n",
    "3. In a bullish engulfing pattern, P1 is a red candle, and P2 is a blue candle. P2’s blue\n",
    "candle completely engulfs P1;s red candle\n",
    "4. A risk taker initiates a long trade at the close of P2 after ensuring P1 and P2 together\n",
    "form a bullish engulfing pattern. A risk averse trader will initiate the trade the day\n",
    "after P2, near the close of the day\n",
    "5. The stoploss for the bullish engulfing pattern is the lowest low between P1 and P2\n",
    "6. The bearish engulfing pattern appears at the top end of an uptrend. P1’s blue\n",
    "candle is completely engulfed by P2’s red candle\n",
    "7. A risk taker initiates a short trade at the close of P2 after ensuring P1 and P2\n",
    "together form a bearish engulfing pattern. The risk averse trader will initiate the\n",
    "trade the day after P2, after confirming the day forms a red candle\n",
    "The highest high of P1 and P2 forms the stoploss for a bearish engulfing pattern\n",
    "9. The presence of a doji after an engulfing pattern tends to catalyze the pattern’s\n",
    "evolution.\n",
    "10. The piercing pattern works very similar to bullish engulfing pattern, except that P2’s\n",
    "blue candle engulfs at least 50% and below 100% of P1’s red candle\n",
    "11. The dark cloud cover works similar to the bearish engulfing pattern, except that P2’s\n",
    "red candle engulfs at least 50% and below 100% of P1’s blue candle."
   ]
  },
  {
   "cell_type": "markdown",
   "id": "f5150a01",
   "metadata": {},
   "source": [
    "## 2. Harami Pattern\n",
    "\n",
    "Harami is Japanese for pregnant.\n",
    "\n",
    "1. The harami pattern evolves over 2 trading sessions – P1 and P2.\n",
    "2. Day 1 (P1) of the pattern forms a long candle and day 2(P2) of the pattern forms a\n",
    "small candle which appears as if it has been tucked inside the P1’s long candle\n",
    "3. A bullish harami candle pattern is formed at the lower end of a down trend. P1 is a\n",
    "long red candle, and P2 is a small blue candle. The idea is to initiate a long trade\n",
    "near the close of P2 (risk taker). A risk averse trader will initiate the long trade near\n",
    "the close of the day after P2 only after ensuring it forms a blue candle day\n",
    "4. The stop loss on a bullish harami pattern is the lowest low price between P1 and P2\n",
    "5. The bearish harami pattern is formed at the top end of an uptrend. P1 is a long blue\n",
    "candle, and P2 is a small red candle. The idea is to initiate a short trade near the\n",
    "close of P2 (risk taker). The risk averse will initiate the short near the close of the day\n",
    "only after ensuring it is a red candle day\n",
    "6. The stop loss on a bearish harami pattern is the highest high price between P1 and\n",
    "P2."
   ]
  },
  {
   "cell_type": "markdown",
   "id": "983e6391",
   "metadata": {},
   "source": [
    "## 3. Stars\n",
    "\n",
    "Gap up/down opening portrays bullish/bearish sentiment.\n",
    "\n",
    "1. Star formation occurs over three trading sessions. The candle of P2 is usually a doji\n",
    "or a spinning top\n",
    "2. If there is a doji on P2 in a star pattern, it is called a doji star (morning doji star,\n",
    "evening doji star) else it is just called the star pattern (morning star, evening star)\n",
    "3. Morning star is a bullish pattern which occurs at the bottom end of the trend. The\n",
    "idea is to go long on P3 with the lowest low of the pattern being the stop loss for the\n",
    "trade\n",
    "4. Evening star is a bearish pattern, which occurs at the top end of an up trend. The\n",
    "idea is to go short on P3, with the highest high of the pattern acting as a stop loss\n",
    "5. The star formation evolves over a 3 days period, h\n",
    "\n"
   ]
  },
  {
   "cell_type": "code",
   "execution_count": null,
   "id": "168d6c99",
   "metadata": {
    "vscode": {
     "languageId": "plaintext"
    }
   },
   "outputs": [],
   "source": []
  },
  {
   "cell_type": "code",
   "execution_count": null,
   "id": "a0997f43",
   "metadata": {
    "vscode": {
     "languageId": "plaintext"
    }
   },
   "outputs": [],
   "source": []
  },
  {
   "cell_type": "markdown",
   "id": "19e49dc0",
   "metadata": {},
   "source": []
  },
  {
   "cell_type": "markdown",
   "id": "b6737063",
   "metadata": {},
   "source": [
    "#### The trade trap\n",
    "Earlier in this chapter we did discuss about the length of the candle. One should avoid trading during an extremely small (below 1% range) or long candle (above 10% range).\n",
    "\n",
    "A small candle indicates subdued trading activity and hence it would be difficult to identify the direction of the trade. On the other hand a long candle indicates extreme activity. \n",
    "\n",
    "The problem with lengthy candles would be the placement of\n",
    "stoploss. The stoploss would be deep and in case the trade goes wrong the penalty to pay would be painful. For this reason, one should avoid trading on candles that\n",
    "are either too short or too long."
   ]
  },
  {
   "cell_type": "markdown",
   "id": "d7d738dd",
   "metadata": {},
   "source": []
  }
 ],
 "metadata": {
  "language_info": {
   "name": "python"
  }
 },
 "nbformat": 4,
 "nbformat_minor": 5
}
