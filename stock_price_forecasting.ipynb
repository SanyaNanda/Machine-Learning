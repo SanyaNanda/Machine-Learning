{
 "cells": [
  {
   "cell_type": "markdown",
   "id": "b9ca6e23",
   "metadata": {},
   "source": [
    "### Imports and environment setup\n",
    "uv venv --python 3.12\n",
    "\n",
    ".venv\\Scripts\\activate\n",
    "\n",
    "uv pip install jupyter yfinance pandas matplotlib torch scikit-learn\n",
    "\n",
    "Select venv as the kernel"
   ]
  },
  {
   "cell_type": "code",
   "execution_count": 1,
   "id": "c68d9b6d",
   "metadata": {},
   "outputs": [],
   "source": [
    "import yfinance as yf\n",
    "import pandas as pd\n",
    "import numpy as np\n",
    "import matplotlib.pyplot as plt\n",
    "\n",
    "import torch\n",
    "import torch.nn as nn\n",
    "from torch.utils.data import Dataset, DataLoader"
   ]
  },
  {
   "cell_type": "markdown",
   "id": "12f7aa04",
   "metadata": {},
   "source": [
    "### Download Stock Data"
   ]
  },
  {
   "cell_type": "code",
   "execution_count": 2,
   "id": "e552fd36",
   "metadata": {},
   "outputs": [
    {
     "name": "stderr",
     "output_type": "stream",
     "text": [
      "C:\\Users\\Sanya Nanda\\AppData\\Local\\Temp\\ipykernel_68076\\2153514313.py:1: FutureWarning: YF.download() has changed argument auto_adjust default to True\n",
      "  df = yf.download(\"AAPL\", start=\"2020-01-01\", end=\"2024-01-01\")\n",
      "[*********************100%***********************]  1 of 1 completed\n"
     ]
    },
    {
     "data": {
      "text/html": [
       "<div>\n",
       "<style scoped>\n",
       "    .dataframe tbody tr th:only-of-type {\n",
       "        vertical-align: middle;\n",
       "    }\n",
       "\n",
       "    .dataframe tbody tr th {\n",
       "        vertical-align: top;\n",
       "    }\n",
       "\n",
       "    .dataframe thead tr th {\n",
       "        text-align: left;\n",
       "    }\n",
       "\n",
       "    .dataframe thead tr:last-of-type th {\n",
       "        text-align: right;\n",
       "    }\n",
       "</style>\n",
       "<table border=\"1\" class=\"dataframe\">\n",
       "  <thead>\n",
       "    <tr>\n",
       "      <th>Price</th>\n",
       "      <th>Close</th>\n",
       "    </tr>\n",
       "    <tr>\n",
       "      <th>Ticker</th>\n",
       "      <th>AAPL</th>\n",
       "    </tr>\n",
       "    <tr>\n",
       "      <th>Date</th>\n",
       "      <th></th>\n",
       "    </tr>\n",
       "  </thead>\n",
       "  <tbody>\n",
       "    <tr>\n",
       "      <th>2020-01-02</th>\n",
       "      <td>72.620842</td>\n",
       "    </tr>\n",
       "    <tr>\n",
       "      <th>2020-01-03</th>\n",
       "      <td>71.914833</td>\n",
       "    </tr>\n",
       "    <tr>\n",
       "      <th>2020-01-06</th>\n",
       "      <td>72.487854</td>\n",
       "    </tr>\n",
       "    <tr>\n",
       "      <th>2020-01-07</th>\n",
       "      <td>72.146942</td>\n",
       "    </tr>\n",
       "    <tr>\n",
       "      <th>2020-01-08</th>\n",
       "      <td>73.307518</td>\n",
       "    </tr>\n",
       "  </tbody>\n",
       "</table>\n",
       "</div>"
      ],
      "text/plain": [
       "Price           Close\n",
       "Ticker           AAPL\n",
       "Date                 \n",
       "2020-01-02  72.620842\n",
       "2020-01-03  71.914833\n",
       "2020-01-06  72.487854\n",
       "2020-01-07  72.146942\n",
       "2020-01-08  73.307518"
      ]
     },
     "execution_count": 2,
     "metadata": {},
     "output_type": "execute_result"
    }
   ],
   "source": [
    "df = yf.download(\"AAPL\", start=\"2020-01-01\", end=\"2024-01-01\")\n",
    "df = df[['Close']]\n",
    "df.dropna(inplace=True)\n",
    "df.head()"
   ]
  },
  {
   "cell_type": "markdown",
   "id": "063de2f9",
   "metadata": {},
   "source": [
    "### Feature Engineering"
   ]
  },
  {
   "cell_type": "code",
   "execution_count": 3,
   "id": "ba490d9d",
   "metadata": {},
   "outputs": [],
   "source": [
    "# generate lag features (previous closing prices)\n",
    "\n",
    "df['lag_1'] = df['Close'].shift(1)\n",
    "df['lag_2'] = df['Close'].shift(2)\n",
    "df['lag_3'] = df['Close'].shift(3)\n",
    "df.dropna(inplace=True)"
   ]
  },
  {
   "cell_type": "code",
   "execution_count": 5,
   "id": "32dd1233",
   "metadata": {},
   "outputs": [
    {
     "data": {
      "text/html": [
       "<div>\n",
       "<style scoped>\n",
       "    .dataframe tbody tr th:only-of-type {\n",
       "        vertical-align: middle;\n",
       "    }\n",
       "\n",
       "    .dataframe tbody tr th {\n",
       "        vertical-align: top;\n",
       "    }\n",
       "\n",
       "    .dataframe thead tr th {\n",
       "        text-align: left;\n",
       "    }\n",
       "\n",
       "    .dataframe thead tr:last-of-type th {\n",
       "        text-align: right;\n",
       "    }\n",
       "</style>\n",
       "<table border=\"1\" class=\"dataframe\">\n",
       "  <thead>\n",
       "    <tr>\n",
       "      <th>Price</th>\n",
       "      <th>Close</th>\n",
       "      <th>lag_1</th>\n",
       "      <th>lag_2</th>\n",
       "      <th>lag_3</th>\n",
       "    </tr>\n",
       "    <tr>\n",
       "      <th>Ticker</th>\n",
       "      <th>AAPL</th>\n",
       "      <th></th>\n",
       "      <th></th>\n",
       "      <th></th>\n",
       "    </tr>\n",
       "    <tr>\n",
       "      <th>Date</th>\n",
       "      <th></th>\n",
       "      <th></th>\n",
       "      <th></th>\n",
       "      <th></th>\n",
       "    </tr>\n",
       "  </thead>\n",
       "  <tbody>\n",
       "    <tr>\n",
       "      <th>2020-01-07</th>\n",
       "      <td>72.146942</td>\n",
       "      <td>72.487854</td>\n",
       "      <td>71.914833</td>\n",
       "      <td>72.620842</td>\n",
       "    </tr>\n",
       "    <tr>\n",
       "      <th>2020-01-08</th>\n",
       "      <td>73.307518</td>\n",
       "      <td>72.146942</td>\n",
       "      <td>72.487854</td>\n",
       "      <td>71.914833</td>\n",
       "    </tr>\n",
       "    <tr>\n",
       "      <th>2020-01-09</th>\n",
       "      <td>74.864624</td>\n",
       "      <td>73.307518</td>\n",
       "      <td>72.146942</td>\n",
       "      <td>72.487854</td>\n",
       "    </tr>\n",
       "    <tr>\n",
       "      <th>2020-01-10</th>\n",
       "      <td>75.033897</td>\n",
       "      <td>74.864624</td>\n",
       "      <td>73.307518</td>\n",
       "      <td>72.146942</td>\n",
       "    </tr>\n",
       "    <tr>\n",
       "      <th>2020-01-13</th>\n",
       "      <td>76.636932</td>\n",
       "      <td>75.033897</td>\n",
       "      <td>74.864624</td>\n",
       "      <td>73.307518</td>\n",
       "    </tr>\n",
       "  </tbody>\n",
       "</table>\n",
       "</div>"
      ],
      "text/plain": [
       "Price           Close      lag_1      lag_2      lag_3\n",
       "Ticker           AAPL                                 \n",
       "Date                                                  \n",
       "2020-01-07  72.146942  72.487854  71.914833  72.620842\n",
       "2020-01-08  73.307518  72.146942  72.487854  71.914833\n",
       "2020-01-09  74.864624  73.307518  72.146942  72.487854\n",
       "2020-01-10  75.033897  74.864624  73.307518  72.146942\n",
       "2020-01-13  76.636932  75.033897  74.864624  73.307518"
      ]
     },
     "execution_count": 5,
     "metadata": {},
     "output_type": "execute_result"
    }
   ],
   "source": [
    "df.head()"
   ]
  },
  {
   "cell_type": "code",
   "execution_count": 6,
   "id": "256b7ce8",
   "metadata": {},
   "outputs": [],
   "source": [
    "# create input and output columns\n",
    "X = df[['lag_1', 'lag_2', 'lag_3']].values\n",
    "y = df['Close'].values"
   ]
  },
  {
   "cell_type": "code",
   "execution_count": 8,
   "id": "fc084da0",
   "metadata": {},
   "outputs": [
    {
     "data": {
      "text/plain": [
       "(array([[ 72.487854  ,  71.91483307,  72.62084198],\n",
       "        [ 72.14694214,  72.487854  ,  71.91483307],\n",
       "        [ 73.30751801,  72.14694214,  72.487854  ],\n",
       "        ...,\n",
       "        [191.64656067, 192.19256592, 193.26467896],\n",
       "        [191.74581909, 191.64656067, 192.19256592],\n",
       "        [192.17268372, 191.74581909, 191.64656067]], shape=(1003, 3)),\n",
       " array([[ 72.14694214],\n",
       "        [ 73.30751801],\n",
       "        [ 74.86462402],\n",
       "        ...,\n",
       "        [191.74581909],\n",
       "        [192.17268372],\n",
       "        [191.13032532]], shape=(1003, 1)))"
      ]
     },
     "execution_count": 8,
     "metadata": {},
     "output_type": "execute_result"
    }
   ],
   "source": [
    "X, y"
   ]
  },
  {
   "cell_type": "code",
   "execution_count": 9,
   "id": "5628f957",
   "metadata": {},
   "outputs": [],
   "source": [
    "# Normalise\n",
    "\n",
    "from sklearn.preprocessing import StandardScaler\n",
    "scaler_x = StandardScaler()\n",
    "scaler_y = StandardScaler()\n",
    "\n",
    "X_scaled = scaler_x.fit_transform(X)\n",
    "y_scaled = scaler_y.fit_transform(y.reshape(-1, 1))"
   ]
  },
  {
   "cell_type": "code",
   "execution_count": 10,
   "id": "fb39d32f",
   "metadata": {},
   "outputs": [
    {
     "data": {
      "text/plain": [
       "(array([[-1.97983059, -1.99206317, -1.96604779],\n",
       "        [-1.99006185, -1.97487777, -1.98720785],\n",
       "        [-1.95523129, -1.98510202, -1.97003363],\n",
       "        ...,\n",
       "        [ 1.5962943 ,  1.61517123,  1.64981306],\n",
       "        [ 1.59927319,  1.59879606,  1.61768036],\n",
       "        [ 1.61208401,  1.6017729 ,  1.60131584]], shape=(1003, 3)),\n",
       " array([[-1.99503794],\n",
       "        [-1.96018247],\n",
       "        [-1.91341804],\n",
       "        ...,\n",
       "        [ 1.59686469],\n",
       "        [ 1.60968468],\n",
       "        [ 1.57837962]], shape=(1003, 1)))"
      ]
     },
     "execution_count": 10,
     "metadata": {},
     "output_type": "execute_result"
    }
   ],
   "source": [
    "X_scaled, y_scaled"
   ]
  },
  {
   "cell_type": "markdown",
   "id": "3ba3fff8",
   "metadata": {},
   "source": [
    "### Prepare dataset for pytorch"
   ]
  },
  {
   "cell_type": "code",
   "execution_count": null,
   "id": "2ef324f3",
   "metadata": {},
   "outputs": [],
   "source": [
    "class StockDataset(Dataset):\n",
    "    def __init__(self, X, y):\n",
    "        self.X = torch.tensor(X, dtype=torch.float32)\n",
    "        self.y = torch.tensor(y, dtype=torch.float32)\n",
    "\n",
    "    def __len__(self):\n",
    "        return len(self.X)\n",
    "\n",
    "    def __getitem__(self, idx):\n",
    "        return self.X[idx], self.y[idx]"
   ]
  },
  {
   "cell_type": "code",
   "execution_count": 12,
   "id": "3d315d74",
   "metadata": {},
   "outputs": [],
   "source": [
    "# Train Test Split\n",
    "split = int(0.8 * len(X_scaled))\n",
    "X_train, X_test = X_scaled[:split], X_scaled[split:]\n",
    "y_train, y_test = y_scaled[:split], y_scaled[split:]\n",
    "\n",
    "train_dataset = StockDataset(X_train, y_train)\n",
    "test_dataset = StockDataset(X_test, y_test)\n",
    "\n",
    "train_loader = DataLoader(train_dataset, batch_size=32, shuffle=True)"
   ]
  },
  {
   "cell_type": "markdown",
   "id": "d63029aa",
   "metadata": {},
   "source": [
    "### Define Linear Regression model"
   ]
  },
  {
   "cell_type": "code",
   "execution_count": 13,
   "id": "e841595f",
   "metadata": {},
   "outputs": [],
   "source": [
    "class LinearRegressionModel(nn.Module):\n",
    "    def __init__(self):\n",
    "        super().__init__()\n",
    "        self.linear = nn.Linear(3, 1)\n",
    "\n",
    "    def forward(self, x):\n",
    "        return self.linear(x)"
   ]
  },
  {
   "cell_type": "markdown",
   "id": "9804f329",
   "metadata": {},
   "source": [
    "### Model Training"
   ]
  },
  {
   "cell_type": "code",
   "execution_count": null,
   "id": "4bd2779c",
   "metadata": {},
   "outputs": [
    {
     "name": "stdout",
     "output_type": "stream",
     "text": [
      "Epoch 0, Loss: 0.0357\n",
      "Epoch 10, Loss: 0.0097\n",
      "Epoch 20, Loss: 0.0173\n",
      "Epoch 30, Loss: 0.0102\n",
      "Epoch 40, Loss: 0.0064\n",
      "Epoch 50, Loss: 0.0023\n",
      "Epoch 60, Loss: 0.0297\n",
      "Epoch 70, Loss: 0.0230\n",
      "Epoch 80, Loss: 0.0178\n",
      "Epoch 90, Loss: 0.0016\n"
     ]
    }
   ],
   "source": [
    "model = LinearRegressionModel()\n",
    "criterion = nn.MSELoss()\n",
    "optimizer = torch.optim.Adam(model.parameters(), lr=0.01)\n",
    "\n",
    "for epoch in range(100):\n",
    "    model.train()\n",
    "    for features, target in train_loader:\n",
    "        output = model(features)\n",
    "        loss = criterion(output, target)\n",
    "        optimizer.zero_grad()\n",
    "        loss.backward()\n",
    "        optimizer.step()\n",
    "    if epoch % 10 == 0:\n",
    "        print(f\"Epoch {epoch}, Loss: {loss.item():.4f}\")"
   ]
  },
  {
   "cell_type": "markdown",
   "id": "cac3ae0a",
   "metadata": {},
   "source": [
    "### Model Evaluation"
   ]
  },
  {
   "cell_type": "code",
   "execution_count": null,
   "id": "f1cff3cb",
   "metadata": {},
   "outputs": [
    {
     "data": {
      "image/png": "[encoded data removed]",
      "text/plain": [
       "<Figure size 1200x600 with 1 Axes>"
      ]
     },
     "metadata": {},
     "output_type": "display_data"
    }
   ],
   "source": [
    "model.eval()\n",
    "with torch.no_grad():\n",
    "    X_test_tensor = torch.tensor(X_test, dtype=torch.float32)\n",
    "    y_pred_scaled = model(X_test_tensor).numpy()\n",
    "\n",
    "y_pred = scaler_y.inverse_transform(y_pred_scaled)\n",
    "y_true = scaler_y.inverse_transform(y_test)\n",
    "\n",
    "plt.figure(figsize=(12, 6))\n",
    "plt.plot(y_true, label='Actual')\n",
    "plt.plot(y_pred, label='Predicted')\n",
    "plt.legend()\n",
    "plt.title(\"Actual vs Predicted Closing Prices\")\n",
    "plt.show()"
   ]
  },
  {
   "cell_type": "code",
   "execution_count": 21,
   "id": "afbfd0f5",
   "metadata": {},
   "outputs": [
    {
     "name": "stdout",
     "output_type": "stream",
     "text": [
      "Predicted next day closing price: 191.1085205078125 for [191.74581909 192.17268372 191.13032532]\n"
     ]
    }
   ],
   "source": [
    "# Predict future value\n",
    "last_3 = df[['Close']].iloc[-3:].values.flatten()\n",
    "last_3_scaled = scaler_x.transform([last_3])\n",
    "with torch.no_grad():\n",
    "    pred = model(torch.tensor(last_3_scaled, dtype=torch.float32))\n",
    "    future_price = scaler_y.inverse_transform(pred.numpy())\n",
    "    print(f\"Predicted next day closing price: {future_price[0][0]} for {last_3}\")\n"
   ]
  },
  {
   "cell_type": "code",
   "execution_count": 23,
   "id": "b451117d",
   "metadata": {},
   "outputs": [
    {
     "data": {
      "text/plain": [
       "['models/p1_scaler_y.pkl']"
      ]
     },
     "execution_count": 23,
     "metadata": {},
     "output_type": "execute_result"
    }
   ],
   "source": [
    "# save the model\n",
    "torch.save(model.state_dict(), \"models/p1_linear_model.pth\")\n",
    "\n",
    "import joblib\n",
    "joblib.dump(scaler_x, \"models/p1_scaler_x.pkl\")\n",
    "joblib.dump(scaler_y, \"models/p1_scaler_y.pkl\")\n"
   ]
  }
 ],
 "metadata": {
  "kernelspec": {
   "display_name": ".venv",
   "language": "python",
   "name": "python3"
  },
  "language_info": {
   "codemirror_mode": {
    "name": "ipython",
    "version": 3
   },
   "file_extension": ".py",
   "mimetype": "text/x-python",
   "name": "python",
   "nbconvert_exporter": "python",
   "pygments_lexer": "ipython3",
   "version": "3.12.2"
  }
 },
 "nbformat": 4,
 "nbformat_minor": 5
}
